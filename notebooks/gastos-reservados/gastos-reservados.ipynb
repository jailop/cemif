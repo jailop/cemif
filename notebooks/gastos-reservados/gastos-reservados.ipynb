{
 "cells": [
  {
   "cell_type": "markdown",
   "id": "18de7961-7da4-45ac-b176-519bdab1031b",
   "metadata": {},
   "source": [
    "Centro de Incidendia y Monitoreo Fiscal  \n",
    "Diciembre 2021\n",
    "\n",
    "# Gastos reservados 2012-2017\n",
    "\n",
    "Los ex-presidentes Elías Saca (2004-2009) y Mauricio Funes (2009-2014) han enfrentado cargos ante la justicia por el uso indebido de las partida de gastos reservados. Hasta ahora, la información disponible para el público sobre el manejo de dichos fondos sigue siendo limitada. Es más, a partir de 2019 se cambió el mecanismo de financiamiento de este tipo de gastos y se cerró complementamente el acceso a cualquier dato al respecto.\n",
    "\n",
    "En este notebook se retoma el dataset publicado junto con el documento de opinión _[De los gastos reservados de la partida 54315 de la Presidencia a los gastos reservados del OIE](http://www.repo.funde.org/id/eprint/1776/)_ (FUNDE, 2021). Este dataset incluye información del período comprendido entre 2012 y 2017.\n"
   ]
  },
  {
   "cell_type": "markdown",
   "id": "92a31554-8d46-4d0c-9435-c3ecf9a9e44a",
   "metadata": {},
   "source": [
    "## Descarga y preparación de los datos\n",
    "\n",
    "En esta sección se descagan los datos del repositorio de FUNDE, se ajustan los nombres de los atributos y se describe la estructura del dataset."
   ]
  },
  {
   "cell_type": "code",
   "execution_count": 101,
   "id": "fdc2378e-807b-4782-b3bb-79e7253f962f",
   "metadata": {},
   "outputs": [],
   "source": [
    "import pandas as pd\n",
    "from vega import VegaLite"
   ]
  },
  {
   "cell_type": "code",
   "execution_count": 102,
   "id": "ed8e0abd-e89c-4efb-ae65-d9169b0a511e",
   "metadata": {},
   "outputs": [
    {
     "data": {
      "text/html": [
       "<div>\n",
       "<style scoped>\n",
       "    .dataframe tbody tr th:only-of-type {\n",
       "        vertical-align: middle;\n",
       "    }\n",
       "\n",
       "    .dataframe tbody tr th {\n",
       "        vertical-align: top;\n",
       "    }\n",
       "\n",
       "    .dataframe thead th {\n",
       "        text-align: right;\n",
       "    }\n",
       "</style>\n",
       "<table border=\"1\" class=\"dataframe\">\n",
       "  <thead>\n",
       "    <tr style=\"text-align: right;\">\n",
       "      <th></th>\n",
       "      <th>Código Institución</th>\n",
       "      <th>Institución</th>\n",
       "      <th>Código y Nombre Fuente Financiamiento</th>\n",
       "      <th>Linea Trabajo</th>\n",
       "      <th>Código Objeto Presupuestario</th>\n",
       "      <th>Objeto Presupuestario</th>\n",
       "      <th>Año</th>\n",
       "      <th>Monto programado o votado</th>\n",
       "      <th>Presupuesto Modificado</th>\n",
       "      <th>Monto Devengado</th>\n",
       "    </tr>\n",
       "  </thead>\n",
       "  <tbody>\n",
       "    <tr>\n",
       "      <th>0</th>\n",
       "      <td>500</td>\n",
       "      <td>PRESIDENCIA DE LA REPUBLICA</td>\n",
       "      <td>3 PRESTAMOS EXTERNOS</td>\n",
       "      <td>0102   ADMINISTRACIÓN GENERAL</td>\n",
       "      <td>54315</td>\n",
       "      <td>GASTOS RESERVADOS</td>\n",
       "      <td>2012</td>\n",
       "      <td>0.0</td>\n",
       "      <td>10752157.00</td>\n",
       "      <td>10752157.00</td>\n",
       "    </tr>\n",
       "    <tr>\n",
       "      <th>1</th>\n",
       "      <td>500</td>\n",
       "      <td>PRESIDENCIA DE LA REPUBLICA</td>\n",
       "      <td>3 PRESTAMOS EXTERNOS</td>\n",
       "      <td>0104   SECRETARÍA PARA ASUNTOS LEGISLATIVOS Y ...</td>\n",
       "      <td>54315</td>\n",
       "      <td>GASTOS RESERVADOS</td>\n",
       "      <td>2012</td>\n",
       "      <td>0.0</td>\n",
       "      <td>1020625.00</td>\n",
       "      <td>1020625.00</td>\n",
       "    </tr>\n",
       "    <tr>\n",
       "      <th>2</th>\n",
       "      <td>500</td>\n",
       "      <td>PRESIDENCIA DE LA REPUBLICA</td>\n",
       "      <td>1 FONDO GENERAL</td>\n",
       "      <td>0107   INNOVACIÓN TECNOLÓGICA E INFORMÁTICA</td>\n",
       "      <td>54315</td>\n",
       "      <td>GASTOS RESERVADOS</td>\n",
       "      <td>2012</td>\n",
       "      <td>0.0</td>\n",
       "      <td>1749678.06</td>\n",
       "      <td>1749678.06</td>\n",
       "    </tr>\n",
       "    <tr>\n",
       "      <th>3</th>\n",
       "      <td>500</td>\n",
       "      <td>PRESIDENCIA DE LA REPUBLICA</td>\n",
       "      <td>3 PRESTAMOS EXTERNOS</td>\n",
       "      <td>0202   CANAL 10 TELEVISIÓN EDUCATIVA Y CULTURAL</td>\n",
       "      <td>54315</td>\n",
       "      <td>GASTOS RESERVADOS</td>\n",
       "      <td>2012</td>\n",
       "      <td>0.0</td>\n",
       "      <td>904925.00</td>\n",
       "      <td>904925.00</td>\n",
       "    </tr>\n",
       "    <tr>\n",
       "      <th>4</th>\n",
       "      <td>500</td>\n",
       "      <td>PRESIDENCIA DE LA REPUBLICA</td>\n",
       "      <td>3 PRESTAMOS EXTERNOS</td>\n",
       "      <td>0301   ASUNTOS ESTRATÉGICOS</td>\n",
       "      <td>54315</td>\n",
       "      <td>GASTOS RESERVADOS</td>\n",
       "      <td>2012</td>\n",
       "      <td>0.0</td>\n",
       "      <td>4808060.00</td>\n",
       "      <td>4808060.00</td>\n",
       "    </tr>\n",
       "  </tbody>\n",
       "</table>\n",
       "</div>"
      ],
      "text/plain": [
       "   Código Institución                  Institución  \\\n",
       "0                 500  PRESIDENCIA DE LA REPUBLICA   \n",
       "1                 500  PRESIDENCIA DE LA REPUBLICA   \n",
       "2                 500  PRESIDENCIA DE LA REPUBLICA   \n",
       "3                 500  PRESIDENCIA DE LA REPUBLICA   \n",
       "4                 500  PRESIDENCIA DE LA REPUBLICA   \n",
       "\n",
       "  Código y Nombre Fuente Financiamiento  \\\n",
       "0                  3 PRESTAMOS EXTERNOS   \n",
       "1                  3 PRESTAMOS EXTERNOS   \n",
       "2                       1 FONDO GENERAL   \n",
       "3                  3 PRESTAMOS EXTERNOS   \n",
       "4                  3 PRESTAMOS EXTERNOS   \n",
       "\n",
       "                                       Linea Trabajo  \\\n",
       "0                      0102   ADMINISTRACIÓN GENERAL   \n",
       "1  0104   SECRETARÍA PARA ASUNTOS LEGISLATIVOS Y ...   \n",
       "2        0107   INNOVACIÓN TECNOLÓGICA E INFORMÁTICA   \n",
       "3    0202   CANAL 10 TELEVISIÓN EDUCATIVA Y CULTURAL   \n",
       "4                        0301   ASUNTOS ESTRATÉGICOS   \n",
       "\n",
       "   Código Objeto Presupuestario Objeto Presupuestario   Año  \\\n",
       "0                         54315     GASTOS RESERVADOS  2012   \n",
       "1                         54315     GASTOS RESERVADOS  2012   \n",
       "2                         54315     GASTOS RESERVADOS  2012   \n",
       "3                         54315     GASTOS RESERVADOS  2012   \n",
       "4                         54315     GASTOS RESERVADOS  2012   \n",
       "\n",
       "   Monto programado o votado  Presupuesto Modificado  Monto Devengado  \n",
       "0                        0.0             10752157.00      10752157.00  \n",
       "1                        0.0              1020625.00       1020625.00  \n",
       "2                        0.0              1749678.06       1749678.06  \n",
       "3                        0.0               904925.00        904925.00  \n",
       "4                        0.0              4808060.00       4808060.00  "
      ]
     },
     "execution_count": 102,
     "metadata": {},
     "output_type": "execute_result"
    }
   ],
   "source": [
    "# Dataset URL\n",
    "url = \"http://www.repo.funde.org/id/eprint/1776/13/F-GR-P-12-17.xlsx\"\n",
    "# It's a Excel file. Data is contained in 'base' sheet\n",
    "data = pd.read_excel(url, sheet_name=\"base\")\n",
    "data.head()"
   ]
  },
  {
   "cell_type": "code",
   "execution_count": 103,
   "id": "c80f384e-d869-4d86-8155-7c0960a85cb0",
   "metadata": {},
   "outputs": [
    {
     "data": {
      "text/plain": [
       "Index(['Código Institución', 'Institución',\n",
       "       'Código y Nombre Fuente Financiamiento', 'Linea Trabajo',\n",
       "       'Código Objeto Presupuestario', 'Objeto Presupuestario', 'Año',\n",
       "       'Monto programado o votado', 'Presupuesto Modificado',\n",
       "       'Monto Devengado'],\n",
       "      dtype='object')"
      ]
     },
     "execution_count": 103,
     "metadata": {},
     "output_type": "execute_result"
    }
   ],
   "source": [
    "# Checking column names\n",
    "data.columns"
   ]
  },
  {
   "cell_type": "code",
   "execution_count": 104,
   "id": "ef1e4b88-197a-4ee4-8061-d0d159532d58",
   "metadata": {},
   "outputs": [
    {
     "data": {
      "text/html": [
       "<div>\n",
       "<style scoped>\n",
       "    .dataframe tbody tr th:only-of-type {\n",
       "        vertical-align: middle;\n",
       "    }\n",
       "\n",
       "    .dataframe tbody tr th {\n",
       "        vertical-align: top;\n",
       "    }\n",
       "\n",
       "    .dataframe thead th {\n",
       "        text-align: right;\n",
       "    }\n",
       "</style>\n",
       "<table border=\"1\" class=\"dataframe\">\n",
       "  <thead>\n",
       "    <tr style=\"text-align: right;\">\n",
       "      <th></th>\n",
       "      <th>office</th>\n",
       "      <th>office_name</th>\n",
       "      <th>source</th>\n",
       "      <th>program</th>\n",
       "      <th>object</th>\n",
       "      <th>object_name</th>\n",
       "      <th>year</th>\n",
       "      <th>approved</th>\n",
       "      <th>modified</th>\n",
       "      <th>accrued</th>\n",
       "    </tr>\n",
       "  </thead>\n",
       "  <tbody>\n",
       "    <tr>\n",
       "      <th>0</th>\n",
       "      <td>500</td>\n",
       "      <td>PRESIDENCIA DE LA REPUBLICA</td>\n",
       "      <td>3 PRESTAMOS EXTERNOS</td>\n",
       "      <td>0102   ADMINISTRACIÓN GENERAL</td>\n",
       "      <td>54315</td>\n",
       "      <td>GASTOS RESERVADOS</td>\n",
       "      <td>2012</td>\n",
       "      <td>0.0</td>\n",
       "      <td>10752157.00</td>\n",
       "      <td>10752157.00</td>\n",
       "    </tr>\n",
       "    <tr>\n",
       "      <th>1</th>\n",
       "      <td>500</td>\n",
       "      <td>PRESIDENCIA DE LA REPUBLICA</td>\n",
       "      <td>3 PRESTAMOS EXTERNOS</td>\n",
       "      <td>0104   SECRETARÍA PARA ASUNTOS LEGISLATIVOS Y ...</td>\n",
       "      <td>54315</td>\n",
       "      <td>GASTOS RESERVADOS</td>\n",
       "      <td>2012</td>\n",
       "      <td>0.0</td>\n",
       "      <td>1020625.00</td>\n",
       "      <td>1020625.00</td>\n",
       "    </tr>\n",
       "    <tr>\n",
       "      <th>2</th>\n",
       "      <td>500</td>\n",
       "      <td>PRESIDENCIA DE LA REPUBLICA</td>\n",
       "      <td>1 FONDO GENERAL</td>\n",
       "      <td>0107   INNOVACIÓN TECNOLÓGICA E INFORMÁTICA</td>\n",
       "      <td>54315</td>\n",
       "      <td>GASTOS RESERVADOS</td>\n",
       "      <td>2012</td>\n",
       "      <td>0.0</td>\n",
       "      <td>1749678.06</td>\n",
       "      <td>1749678.06</td>\n",
       "    </tr>\n",
       "    <tr>\n",
       "      <th>3</th>\n",
       "      <td>500</td>\n",
       "      <td>PRESIDENCIA DE LA REPUBLICA</td>\n",
       "      <td>3 PRESTAMOS EXTERNOS</td>\n",
       "      <td>0202   CANAL 10 TELEVISIÓN EDUCATIVA Y CULTURAL</td>\n",
       "      <td>54315</td>\n",
       "      <td>GASTOS RESERVADOS</td>\n",
       "      <td>2012</td>\n",
       "      <td>0.0</td>\n",
       "      <td>904925.00</td>\n",
       "      <td>904925.00</td>\n",
       "    </tr>\n",
       "    <tr>\n",
       "      <th>4</th>\n",
       "      <td>500</td>\n",
       "      <td>PRESIDENCIA DE LA REPUBLICA</td>\n",
       "      <td>3 PRESTAMOS EXTERNOS</td>\n",
       "      <td>0301   ASUNTOS ESTRATÉGICOS</td>\n",
       "      <td>54315</td>\n",
       "      <td>GASTOS RESERVADOS</td>\n",
       "      <td>2012</td>\n",
       "      <td>0.0</td>\n",
       "      <td>4808060.00</td>\n",
       "      <td>4808060.00</td>\n",
       "    </tr>\n",
       "  </tbody>\n",
       "</table>\n",
       "</div>"
      ],
      "text/plain": [
       "   office                  office_name                source  \\\n",
       "0     500  PRESIDENCIA DE LA REPUBLICA  3 PRESTAMOS EXTERNOS   \n",
       "1     500  PRESIDENCIA DE LA REPUBLICA  3 PRESTAMOS EXTERNOS   \n",
       "2     500  PRESIDENCIA DE LA REPUBLICA       1 FONDO GENERAL   \n",
       "3     500  PRESIDENCIA DE LA REPUBLICA  3 PRESTAMOS EXTERNOS   \n",
       "4     500  PRESIDENCIA DE LA REPUBLICA  3 PRESTAMOS EXTERNOS   \n",
       "\n",
       "                                             program  object  \\\n",
       "0                      0102   ADMINISTRACIÓN GENERAL   54315   \n",
       "1  0104   SECRETARÍA PARA ASUNTOS LEGISLATIVOS Y ...   54315   \n",
       "2        0107   INNOVACIÓN TECNOLÓGICA E INFORMÁTICA   54315   \n",
       "3    0202   CANAL 10 TELEVISIÓN EDUCATIVA Y CULTURAL   54315   \n",
       "4                        0301   ASUNTOS ESTRATÉGICOS   54315   \n",
       "\n",
       "         object_name  year  approved     modified      accrued  \n",
       "0  GASTOS RESERVADOS  2012       0.0  10752157.00  10752157.00  \n",
       "1  GASTOS RESERVADOS  2012       0.0   1020625.00   1020625.00  \n",
       "2  GASTOS RESERVADOS  2012       0.0   1749678.06   1749678.06  \n",
       "3  GASTOS RESERVADOS  2012       0.0    904925.00    904925.00  \n",
       "4  GASTOS RESERVADOS  2012       0.0   4808060.00   4808060.00  "
      ]
     },
     "execution_count": 104,
     "metadata": {},
     "output_type": "execute_result"
    }
   ],
   "source": [
    "# Replacing attribute names with standarized labels\n",
    "data.rename(columns={\n",
    "    \"Código Institución\": \"office\",\n",
    "    \"Institución\": \"office_name\",\n",
    "    \"Código y Nombre Fuente Financiamiento\": \"source\",\n",
    "    \"Linea Trabajo\": \"program\",\n",
    "    \"Código Objeto Presupuestario\": \"object\",\n",
    "    \"Objeto Presupuestario\": \"object_name\",\n",
    "    \"Año\": \"year\",\n",
    "    \"Monto programado o votado\": \"approved\",\n",
    "    \"Presupuesto Modificado\": \"modified\",\n",
    "    \"Monto Devengado\": \"accrued\"\n",
    "}, inplace=True)\n",
    "data.head()"
   ]
  },
  {
   "cell_type": "code",
   "execution_count": 105,
   "id": "5dce060e-6854-4a4c-8044-3957422df90d",
   "metadata": {},
   "outputs": [
    {
     "data": {
      "text/plain": [
       "Index(['office', 'office_name', 'source', 'program', 'object', 'object_name',\n",
       "       'year', 'approved', 'modified', 'accrued'],\n",
       "      dtype='object')"
      ]
     },
     "execution_count": 105,
     "metadata": {},
     "output_type": "execute_result"
    }
   ],
   "source": [
    "data.columns"
   ]
  },
  {
   "cell_type": "code",
   "execution_count": 92,
   "id": "6bec8c32-085b-4e0e-a43d-53b8ddc2261d",
   "metadata": {},
   "outputs": [],
   "source": [
    "# Saving the dataset\n",
    "data.to_csv(\"gastos-reservados-presidencia-2012-2017.csv\", index=False)"
   ]
  },
  {
   "cell_type": "code",
   "execution_count": 100,
   "id": "7f7aef99",
   "metadata": {},
   "outputs": [
    {
     "name": "stderr",
     "output_type": "stream",
     "text": [
      "<ipython-input-100-1275c670d7fb>:1: FutureWarning: This dataframe has a column name that matches the 'value_name' column name of the resulting Dataframe. In the future this will raise an error, please set the 'value_name' parameter of DataFrame.melt to a unique name.\n",
      "  data = data.melt(\n"
     ]
    },
    {
     "ename": "KeyError",
     "evalue": "\"The following 'id_vars' are not present in the DataFrame: ['object', 'object_name', 'office', 'office_name', 'program']\"",
     "output_type": "error",
     "traceback": [
      "\u001b[0;31m---------------------------------------------------------------------------\u001b[0m",
      "\u001b[0;31mKeyError\u001b[0m                                  Traceback (most recent call last)",
      "\u001b[0;32m<ipython-input-100-1275c670d7fb>\u001b[0m in \u001b[0;36m<module>\u001b[0;34m\u001b[0m\n\u001b[0;32m----> 1\u001b[0;31m data = data.melt(\n\u001b[0m\u001b[1;32m      2\u001b[0m     \u001b[0mid_vars\u001b[0m\u001b[0;34m=\u001b[0m\u001b[0;34m[\u001b[0m\u001b[0;34m\"year\"\u001b[0m\u001b[0;34m,\u001b[0m \u001b[0;34m\"office\"\u001b[0m\u001b[0;34m,\u001b[0m \u001b[0;34m\"office_name\"\u001b[0m\u001b[0;34m,\u001b[0m \u001b[0;34m\"source\"\u001b[0m\u001b[0;34m,\u001b[0m \u001b[0;34m\"program\"\u001b[0m\u001b[0;34m,\u001b[0m \u001b[0;34m\"object\"\u001b[0m\u001b[0;34m,\u001b[0m \u001b[0;34m\"object_name\"\u001b[0m\u001b[0;34m]\u001b[0m\u001b[0;34m,\u001b[0m\u001b[0;34m\u001b[0m\u001b[0;34m\u001b[0m\u001b[0m\n\u001b[1;32m      3\u001b[0m     \u001b[0mvalue_vars\u001b[0m\u001b[0;34m=\u001b[0m\u001b[0;34m[\u001b[0m\u001b[0;34m\"approved\"\u001b[0m\u001b[0;34m,\u001b[0m \u001b[0;34m\"modified\"\u001b[0m\u001b[0;34m,\u001b[0m \u001b[0;34m\"accrued\"\u001b[0m\u001b[0;34m]\u001b[0m\u001b[0;34m,\u001b[0m\u001b[0;34m\u001b[0m\u001b[0;34m\u001b[0m\u001b[0m\n\u001b[1;32m      4\u001b[0m     \u001b[0mvar_name\u001b[0m\u001b[0;34m=\u001b[0m\u001b[0;34m\"moment\"\u001b[0m\u001b[0;34m,\u001b[0m\u001b[0;34m\u001b[0m\u001b[0;34m\u001b[0m\u001b[0m\n\u001b[1;32m      5\u001b[0m     \u001b[0mvalue_name\u001b[0m\u001b[0;34m=\u001b[0m\u001b[0;34m\"value\"\u001b[0m\u001b[0;34m\u001b[0m\u001b[0;34m\u001b[0m\u001b[0m\n",
      "\u001b[0;32m/usr/lib/python3.10/site-packages/pandas/core/frame.py\u001b[0m in \u001b[0;36mmelt\u001b[0;34m(self, id_vars, value_vars, var_name, value_name, col_level, ignore_index)\u001b[0m\n\u001b[1;32m   8337\u001b[0m     ) -> DataFrame:\n\u001b[1;32m   8338\u001b[0m \u001b[0;34m\u001b[0m\u001b[0m\n\u001b[0;32m-> 8339\u001b[0;31m         return melt(\n\u001b[0m\u001b[1;32m   8340\u001b[0m             \u001b[0mself\u001b[0m\u001b[0;34m,\u001b[0m\u001b[0;34m\u001b[0m\u001b[0;34m\u001b[0m\u001b[0m\n\u001b[1;32m   8341\u001b[0m             \u001b[0mid_vars\u001b[0m\u001b[0;34m=\u001b[0m\u001b[0mid_vars\u001b[0m\u001b[0;34m,\u001b[0m\u001b[0;34m\u001b[0m\u001b[0;34m\u001b[0m\u001b[0m\n",
      "\u001b[0;32m/usr/lib/python3.10/site-packages/pandas/core/reshape/melt.py\u001b[0m in \u001b[0;36mmelt\u001b[0;34m(frame, id_vars, value_vars, var_name, value_name, col_level, ignore_index)\u001b[0m\n\u001b[1;32m     80\u001b[0m             \u001b[0mmissing\u001b[0m \u001b[0;34m=\u001b[0m \u001b[0mIndex\u001b[0m\u001b[0;34m(\u001b[0m\u001b[0mcom\u001b[0m\u001b[0;34m.\u001b[0m\u001b[0mflatten\u001b[0m\u001b[0;34m(\u001b[0m\u001b[0mid_vars\u001b[0m\u001b[0;34m)\u001b[0m\u001b[0;34m)\u001b[0m\u001b[0;34m.\u001b[0m\u001b[0mdifference\u001b[0m\u001b[0;34m(\u001b[0m\u001b[0mcols\u001b[0m\u001b[0;34m)\u001b[0m\u001b[0;34m\u001b[0m\u001b[0;34m\u001b[0m\u001b[0m\n\u001b[1;32m     81\u001b[0m             \u001b[0;32mif\u001b[0m \u001b[0;32mnot\u001b[0m \u001b[0mmissing\u001b[0m\u001b[0;34m.\u001b[0m\u001b[0mempty\u001b[0m\u001b[0;34m:\u001b[0m\u001b[0;34m\u001b[0m\u001b[0;34m\u001b[0m\u001b[0m\n\u001b[0;32m---> 82\u001b[0;31m                 raise KeyError(\n\u001b[0m\u001b[1;32m     83\u001b[0m                     \u001b[0;34m\"The following 'id_vars' are not present \"\u001b[0m\u001b[0;34m\u001b[0m\u001b[0;34m\u001b[0m\u001b[0m\n\u001b[1;32m     84\u001b[0m                     \u001b[0;34mf\"in the DataFrame: {list(missing)}\"\u001b[0m\u001b[0;34m\u001b[0m\u001b[0;34m\u001b[0m\u001b[0m\n",
      "\u001b[0;31mKeyError\u001b[0m: \"The following 'id_vars' are not present in the DataFrame: ['object', 'object_name', 'office', 'office_name', 'program']\""
     ]
    }
   ],
   "source": [
    "data = data.melt(\n",
    "    id_vars=[\"year\", \"office\", \"office_name\", \"source\", \"program\", \"object\", \"object_name\"], \n",
    "    value_vars=[\"approved\", \"modified\", \"accrued\"], \n",
    "    var_name=\"moment\", \n",
    "    value_name=\"value\"\n",
    ")"
   ]
  },
  {
   "cell_type": "code",
   "execution_count": 94,
   "id": "49294ebe",
   "metadata": {},
   "outputs": [
    {
     "data": {
      "text/html": [
       "<div>\n",
       "<style scoped>\n",
       "    .dataframe tbody tr th:only-of-type {\n",
       "        vertical-align: middle;\n",
       "    }\n",
       "\n",
       "    .dataframe tbody tr th {\n",
       "        vertical-align: top;\n",
       "    }\n",
       "\n",
       "    .dataframe thead th {\n",
       "        text-align: right;\n",
       "    }\n",
       "</style>\n",
       "<table border=\"1\" class=\"dataframe\">\n",
       "  <thead>\n",
       "    <tr style=\"text-align: right;\">\n",
       "      <th></th>\n",
       "      <th>year</th>\n",
       "      <th>source</th>\n",
       "      <th>moment</th>\n",
       "      <th>value</th>\n",
       "    </tr>\n",
       "  </thead>\n",
       "  <tbody>\n",
       "    <tr>\n",
       "      <th>0</th>\n",
       "      <td>2012</td>\n",
       "      <td>3 PRESTAMOS EXTERNOS</td>\n",
       "      <td>approved</td>\n",
       "      <td>0.0</td>\n",
       "    </tr>\n",
       "    <tr>\n",
       "      <th>1</th>\n",
       "      <td>2012</td>\n",
       "      <td>3 PRESTAMOS EXTERNOS</td>\n",
       "      <td>approved</td>\n",
       "      <td>0.0</td>\n",
       "    </tr>\n",
       "    <tr>\n",
       "      <th>2</th>\n",
       "      <td>2012</td>\n",
       "      <td>1 FONDO GENERAL</td>\n",
       "      <td>approved</td>\n",
       "      <td>0.0</td>\n",
       "    </tr>\n",
       "    <tr>\n",
       "      <th>3</th>\n",
       "      <td>2012</td>\n",
       "      <td>3 PRESTAMOS EXTERNOS</td>\n",
       "      <td>approved</td>\n",
       "      <td>0.0</td>\n",
       "    </tr>\n",
       "    <tr>\n",
       "      <th>4</th>\n",
       "      <td>2012</td>\n",
       "      <td>3 PRESTAMOS EXTERNOS</td>\n",
       "      <td>approved</td>\n",
       "      <td>0.0</td>\n",
       "    </tr>\n",
       "  </tbody>\n",
       "</table>\n",
       "</div>"
      ],
      "text/plain": [
       "   year                source    moment  value\n",
       "0  2012  3 PRESTAMOS EXTERNOS  approved    0.0\n",
       "1  2012  3 PRESTAMOS EXTERNOS  approved    0.0\n",
       "2  2012       1 FONDO GENERAL  approved    0.0\n",
       "3  2012  3 PRESTAMOS EXTERNOS  approved    0.0\n",
       "4  2012  3 PRESTAMOS EXTERNOS  approved    0.0"
      ]
     },
     "execution_count": 94,
     "metadata": {},
     "output_type": "execute_result"
    }
   ],
   "source": [
    "data.head()"
   ]
  },
  {
   "cell_type": "markdown",
   "id": "8dcb4895-b07f-472d-b97c-6edcee83226e",
   "metadata": {},
   "source": [
    "## Agrupaciones\n",
    "\n",
    "En esta sección se agrupan los datos con base en varios criterios."
   ]
  },
  {
   "cell_type": "code",
   "execution_count": 99,
   "id": "8964a939-0a78-46d9-8639-91318221456d",
   "metadata": {},
   "outputs": [
    {
     "data": {
      "application/javascript": [
       "const spec = {\"$schema\": \"https://vega.github.io/schema/vega-lite/v5.json\", \"mark\": \"bar\", \"width\": 500, \"encoding\": {\"y\": {\"aggregate\": \"sum\", \"type\": \"quantitative\", \"field\": \"value\"}, \"x\": {\"type\": \"nominal\", \"field\": \"year\"}, \"color\": {\"field\": \"moment\"}}, \"transform\": [{\"filter\": \"datum.moment == 'accrued'\"}], \"config\": {\"numberFormat\": \"~s\"}, \"data\": {\"values\": [{\"year\": 2012, \"source\": \"3 PRESTAMOS EXTERNOS\", \"moment\": \"approved\", \"value\": 0.0}, {\"year\": 2012, \"source\": \"3 PRESTAMOS EXTERNOS\", \"moment\": \"approved\", \"value\": 0.0}, {\"year\": 2012, \"source\": \"1 FONDO GENERAL\", \"moment\": \"approved\", \"value\": 0.0}, {\"year\": 2012, \"source\": \"3 PRESTAMOS EXTERNOS\", \"moment\": \"approved\", \"value\": 0.0}, {\"year\": 2012, \"source\": \"3 PRESTAMOS EXTERNOS\", \"moment\": \"approved\", \"value\": 0.0}, {\"year\": 2012, \"source\": \"1 FONDO GENERAL\", \"moment\": \"approved\", \"value\": 0.0}, {\"year\": 2012, \"source\": \"1 FONDO GENERAL\", \"moment\": \"approved\", \"value\": 21205270.0}, {\"year\": 2012, \"source\": \"1 FONDO GENERAL\", \"moment\": \"approved\", \"value\": 0.0}, {\"year\": 2012, \"source\": \"3 PRESTAMOS EXTERNOS\", \"moment\": \"approved\", \"value\": 0.0}, {\"year\": 2012, \"source\": \"1 FONDO GENERAL\", \"moment\": \"approved\", \"value\": 0.0}, {\"year\": 2012, \"source\": \"3 PRESTAMOS EXTERNOS\", \"moment\": \"approved\", \"value\": 0.0}, {\"year\": 2012, \"source\": \"3 PRESTAMOS EXTERNOS\", \"moment\": \"approved\", \"value\": 0.0}, {\"year\": 2012, \"source\": \"3 PRESTAMOS EXTERNOS\", \"moment\": \"approved\", \"value\": 0.0}, {\"year\": 2012, \"source\": \"1 FONDO GENERAL\", \"moment\": \"approved\", \"value\": 0.0}, {\"year\": 2012, \"source\": \"5 DONACIONES\", \"moment\": \"approved\", \"value\": 0.0}, {\"year\": 2012, \"source\": \"1 FONDO GENERAL\", \"moment\": \"approved\", \"value\": 0.0}, {\"year\": 2012, \"source\": \"1 FONDO GENERAL\", \"moment\": \"approved\", \"value\": 0.0}, {\"year\": 2012, \"source\": \"3 PRESTAMOS EXTERNOS\", \"moment\": \"approved\", \"value\": 0.0}, {\"year\": 2012, \"source\": \"1 FONDO GENERAL\", \"moment\": \"approved\", \"value\": 0.0}, {\"year\": 2012, \"source\": \"1 FONDO GENERAL\", \"moment\": \"approved\", \"value\": 0.0}, {\"year\": 2012, \"source\": \"3 PRESTAMOS EXTERNOS\", \"moment\": \"approved\", \"value\": 0.0}, {\"year\": 2012, \"source\": \"3 PRESTAMOS EXTERNOS\", \"moment\": \"approved\", \"value\": 0.0}, {\"year\": 2012, \"source\": \"1 FONDO GENERAL\", \"moment\": \"approved\", \"value\": 0.0}, {\"year\": 2012, \"source\": \"1 FONDO GENERAL\", \"moment\": \"approved\", \"value\": 0.0}, {\"year\": 2013, \"source\": \"1 FONDO GENERAL\", \"moment\": \"approved\", \"value\": 0.0}, {\"year\": 2013, \"source\": \"1 FONDO GENERAL\", \"moment\": \"approved\", \"value\": 0.0}, {\"year\": 2013, \"source\": \"1 FONDO GENERAL\", \"moment\": \"approved\", \"value\": 0.0}, {\"year\": 2013, \"source\": \"1 FONDO GENERAL\", \"moment\": \"approved\", \"value\": 21205270.0}, {\"year\": 2013, \"source\": \"1 FONDO GENERAL\", \"moment\": \"approved\", \"value\": 0.0}, {\"year\": 2013, \"source\": \"1 FONDO GENERAL\", \"moment\": \"approved\", \"value\": 0.0}, {\"year\": 2013, \"source\": \"1 FONDO GENERAL\", \"moment\": \"approved\", \"value\": 0.0}, {\"year\": 2013, \"source\": \"1 FONDO GENERAL\", \"moment\": \"approved\", \"value\": 0.0}, {\"year\": 2013, \"source\": \"1 FONDO GENERAL\", \"moment\": \"approved\", \"value\": 0.0}, {\"year\": 2013, \"source\": \"1 FONDO GENERAL\", \"moment\": \"approved\", \"value\": 0.0}, {\"year\": 2013, \"source\": \"1 FONDO GENERAL\", \"moment\": \"approved\", \"value\": 0.0}, {\"year\": 2013, \"source\": \"1 FONDO GENERAL\", \"moment\": \"approved\", \"value\": 0.0}, {\"year\": 2013, \"source\": \"1 FONDO GENERAL\", \"moment\": \"approved\", \"value\": 0.0}, {\"year\": 2014, \"source\": \"5 DONACIONES\", \"moment\": \"approved\", \"value\": 714480.0}, {\"year\": 2014, \"source\": \"1 FONDO GENERAL\", \"moment\": \"approved\", \"value\": 0.0}, {\"year\": 2014, \"source\": \"1 FONDO GENERAL\", \"moment\": \"approved\", \"value\": 0.0}, {\"year\": 2014, \"source\": \"1 FONDO GENERAL\", \"moment\": \"approved\", \"value\": 0.0}, {\"year\": 2014, \"source\": \"1 FONDO GENERAL\", \"moment\": \"approved\", \"value\": 0.0}, {\"year\": 2014, \"source\": \"1 FONDO GENERAL\", \"moment\": \"approved\", \"value\": 19643510.0}, {\"year\": 2014, \"source\": \"1 FONDO GENERAL\", \"moment\": \"approved\", \"value\": 0.0}, {\"year\": 2014, \"source\": \"1 FONDO GENERAL\", \"moment\": \"approved\", \"value\": 0.0}, {\"year\": 2014, \"source\": \"1 FONDO GENERAL\", \"moment\": \"approved\", \"value\": 0.0}, {\"year\": 2015, \"source\": \"1 FONDO GENERAL\", \"moment\": \"approved\", \"value\": 0.0}, {\"year\": 2015, \"source\": \"1 FONDO GENERAL\", \"moment\": \"approved\", \"value\": 0.0}, {\"year\": 2015, \"source\": \"1 FONDO GENERAL\", \"moment\": \"approved\", \"value\": 0.0}, {\"year\": 2015, \"source\": \"5 DONACIONES\", \"moment\": \"approved\", \"value\": 803135.31}, {\"year\": 2015, \"source\": \"1 FONDO GENERAL\", \"moment\": \"approved\", \"value\": 21470220.0}, {\"year\": 2015, \"source\": \"1 FONDO GENERAL\", \"moment\": \"approved\", \"value\": 0.0}, {\"year\": 2015, \"source\": \"1 FONDO GENERAL\", \"moment\": \"approved\", \"value\": 0.0}, {\"year\": 2015, \"source\": \"1 FONDO GENERAL\", \"moment\": \"approved\", \"value\": 0.0}, {\"year\": 2015, \"source\": \"1 FONDO GENERAL\", \"moment\": \"approved\", \"value\": 0.0}, {\"year\": 2015, \"source\": \"1 FONDO GENERAL\", \"moment\": \"approved\", \"value\": 0.0}, {\"year\": 2015, \"source\": \"1 FONDO GENERAL\", \"moment\": \"approved\", \"value\": 0.0}, {\"year\": 2015, \"source\": \"1 FONDO GENERAL\", \"moment\": \"approved\", \"value\": 0.0}, {\"year\": 2015, \"source\": \"1 FONDO GENERAL\", \"moment\": \"approved\", \"value\": 0.0}, {\"year\": 2015, \"source\": \"1 FONDO GENERAL\", \"moment\": \"approved\", \"value\": 0.0}, {\"year\": 2015, \"source\": \"1 FONDO GENERAL\", \"moment\": \"approved\", \"value\": 0.0}, {\"year\": 2015, \"source\": \"3 PRESTAMOS EXTERNOS\", \"moment\": \"approved\", \"value\": 0.0}, {\"year\": 2015, \"source\": \"1 FONDO GENERAL\", \"moment\": \"approved\", \"value\": 0.0}, {\"year\": 2016, \"source\": \"1 FONDO GENERAL\", \"moment\": \"approved\", \"value\": 24470105.0}, {\"year\": 2016, \"source\": \"1 FONDO GENERAL\", \"moment\": \"approved\", \"value\": 0.0}, {\"year\": 2016, \"source\": \"1 FONDO GENERAL\", \"moment\": \"approved\", \"value\": 0.0}, {\"year\": 2016, \"source\": \"1 FONDO GENERAL\", \"moment\": \"approved\", \"value\": 0.0}, {\"year\": 2016, \"source\": \"5 DONACIONES\", \"moment\": \"approved\", \"value\": 550000.0}, {\"year\": 2016, \"source\": \"1 FONDO GENERAL\", \"moment\": \"approved\", \"value\": 0.0}, {\"year\": 2016, \"source\": \"1 FONDO GENERAL\", \"moment\": \"approved\", \"value\": 0.0}, {\"year\": 2017, \"source\": \"1 FONDO GENERAL\", \"moment\": \"approved\", \"value\": 2976653.29}, {\"year\": 2017, \"source\": \"1 FONDO GENERAL\", \"moment\": \"approved\", \"value\": 4064038.45}, {\"year\": 2017, \"source\": \"1 FONDO GENERAL\", \"moment\": \"approved\", \"value\": 29015.0}, {\"year\": 2017, \"source\": \"5 DONACIONES\", \"moment\": \"approved\", \"value\": 0.0}, {\"year\": 2017, \"source\": \"1 FONDO GENERAL\", \"moment\": \"approved\", \"value\": 24469260.0}, {\"year\": 2017, \"source\": \"1 FONDO GENERAL\", \"moment\": \"approved\", \"value\": 0.0}, {\"year\": 2017, \"source\": \"1 FONDO GENERAL\", \"moment\": \"approved\", \"value\": 559320.5}, {\"year\": 2012, \"source\": \"3 PRESTAMOS EXTERNOS\", \"moment\": \"modified\", \"value\": 10752157.0}, {\"year\": 2012, \"source\": \"3 PRESTAMOS EXTERNOS\", \"moment\": \"modified\", \"value\": 1020625.0}, {\"year\": 2012, \"source\": \"1 FONDO GENERAL\", \"moment\": \"modified\", \"value\": 1749678.06}, {\"year\": 2012, \"source\": \"3 PRESTAMOS EXTERNOS\", \"moment\": \"modified\", \"value\": 904925.0}, {\"year\": 2012, \"source\": \"3 PRESTAMOS EXTERNOS\", \"moment\": \"modified\", \"value\": 4808060.0}, {\"year\": 2012, \"source\": \"1 FONDO GENERAL\", \"moment\": \"modified\", \"value\": 93865.0}, {\"year\": 2012, \"source\": \"1 FONDO GENERAL\", \"moment\": \"modified\", \"value\": 21205270.0}, {\"year\": 2012, \"source\": \"1 FONDO GENERAL\", \"moment\": \"modified\", \"value\": 1040605.21}, {\"year\": 2012, \"source\": \"3 PRESTAMOS EXTERNOS\", \"moment\": \"modified\", \"value\": 3459434.0}, {\"year\": 2012, \"source\": \"1 FONDO GENERAL\", \"moment\": \"modified\", \"value\": 6667256.07}, {\"year\": 2012, \"source\": \"3 PRESTAMOS EXTERNOS\", \"moment\": \"modified\", \"value\": 2146855.0}, {\"year\": 2012, \"source\": \"3 PRESTAMOS EXTERNOS\", \"moment\": \"modified\", \"value\": 368800.0}, {\"year\": 2012, \"source\": \"3 PRESTAMOS EXTERNOS\", \"moment\": \"modified\", \"value\": 732050.0}, {\"year\": 2012, \"source\": \"1 FONDO GENERAL\", \"moment\": \"modified\", \"value\": 1645801.67}, {\"year\": 2012, \"source\": \"5 DONACIONES\", \"moment\": \"modified\", \"value\": 4500000.0}, {\"year\": 2012, \"source\": \"1 FONDO GENERAL\", \"moment\": \"modified\", \"value\": 136038.41}, {\"year\": 2012, \"source\": \"1 FONDO GENERAL\", \"moment\": \"modified\", \"value\": 8577045.35}, {\"year\": 2012, \"source\": \"3 PRESTAMOS EXTERNOS\", \"moment\": \"modified\", \"value\": 2474566.0}, {\"year\": 2012, \"source\": \"1 FONDO GENERAL\", \"moment\": \"modified\", \"value\": 1323244.6}, {\"year\": 2012, \"source\": \"1 FONDO GENERAL\", \"moment\": \"modified\", \"value\": 34315.44}, {\"year\": 2012, \"source\": \"3 PRESTAMOS EXTERNOS\", \"moment\": \"modified\", \"value\": 500973.0}, {\"year\": 2012, \"source\": \"3 PRESTAMOS EXTERNOS\", \"moment\": \"modified\", \"value\": 1164825.0}, {\"year\": 2012, \"source\": \"1 FONDO GENERAL\", \"moment\": \"modified\", \"value\": 698480.41}, {\"year\": 2012, \"source\": \"1 FONDO GENERAL\", \"moment\": \"modified\", \"value\": 36959.69}, {\"year\": 2013, \"source\": \"1 FONDO GENERAL\", \"moment\": \"modified\", \"value\": 2961162.07}, {\"year\": 2013, \"source\": \"1 FONDO GENERAL\", \"moment\": \"modified\", \"value\": 9756652.48}, {\"year\": 2013, \"source\": \"1 FONDO GENERAL\", \"moment\": \"modified\", \"value\": 5022566.13}, {\"year\": 2013, \"source\": \"1 FONDO GENERAL\", \"moment\": \"modified\", \"value\": 21207644.7}, {\"year\": 2013, \"source\": \"1 FONDO GENERAL\", \"moment\": \"modified\", \"value\": 13814682.22}, {\"year\": 2013, \"source\": \"1 FONDO GENERAL\", \"moment\": \"modified\", \"value\": 6680716.06}, {\"year\": 2013, \"source\": \"1 FONDO GENERAL\", \"moment\": \"modified\", \"value\": 3070603.91}, {\"year\": 2013, \"source\": \"1 FONDO GENERAL\", \"moment\": \"modified\", \"value\": 10709149.77}, {\"year\": 2013, \"source\": \"1 FONDO GENERAL\", \"moment\": \"modified\", \"value\": 239047.9}, {\"year\": 2013, \"source\": \"1 FONDO GENERAL\", \"moment\": \"modified\", \"value\": 4256755.78}, {\"year\": 2013, \"source\": \"1 FONDO GENERAL\", \"moment\": \"modified\", \"value\": 3230820.0}, {\"year\": 2013, \"source\": \"1 FONDO GENERAL\", \"moment\": \"modified\", \"value\": 102095.31}, {\"year\": 2013, \"source\": \"1 FONDO GENERAL\", \"moment\": \"modified\", \"value\": 619305.05}, {\"year\": 2014, \"source\": \"5 DONACIONES\", \"moment\": \"modified\", \"value\": 1400000.0}, {\"year\": 2014, \"source\": \"1 FONDO GENERAL\", \"moment\": \"modified\", \"value\": 8725069.86}, {\"year\": 2014, \"source\": \"1 FONDO GENERAL\", \"moment\": \"modified\", \"value\": 506617.87}, {\"year\": 2014, \"source\": \"1 FONDO GENERAL\", \"moment\": \"modified\", \"value\": 1104660.26}, {\"year\": 2014, \"source\": \"1 FONDO GENERAL\", \"moment\": \"modified\", \"value\": 1859124.62}, {\"year\": 2014, \"source\": \"1 FONDO GENERAL\", \"moment\": \"modified\", \"value\": 21578115.69}, {\"year\": 2014, \"source\": \"1 FONDO GENERAL\", \"moment\": \"modified\", \"value\": 8702819.34}, {\"year\": 2014, \"source\": \"1 FONDO GENERAL\", \"moment\": \"modified\", \"value\": 433770.56}, {\"year\": 2014, \"source\": \"1 FONDO GENERAL\", \"moment\": \"modified\", \"value\": 9288.63}, {\"year\": 2015, \"source\": \"1 FONDO GENERAL\", \"moment\": \"modified\", \"value\": 9741158.8}, {\"year\": 2015, \"source\": \"1 FONDO GENERAL\", \"moment\": \"modified\", \"value\": 4707778.79}, {\"year\": 2015, \"source\": \"1 FONDO GENERAL\", \"moment\": \"modified\", \"value\": 457125.6}, {\"year\": 2015, \"source\": \"5 DONACIONES\", \"moment\": \"modified\", \"value\": 1003135.31}, {\"year\": 2015, \"source\": \"1 FONDO GENERAL\", \"moment\": \"modified\", \"value\": 20103156.03}, {\"year\": 2015, \"source\": \"1 FONDO GENERAL\", \"moment\": \"modified\", \"value\": 1806218.02}, {\"year\": 2015, \"source\": \"1 FONDO GENERAL\", \"moment\": \"modified\", \"value\": 659537.0}, {\"year\": 2015, \"source\": \"1 FONDO GENERAL\", \"moment\": \"modified\", \"value\": 7973342.17}, {\"year\": 2015, \"source\": \"1 FONDO GENERAL\", \"moment\": \"modified\", \"value\": 20859.48}, {\"year\": 2015, \"source\": \"1 FONDO GENERAL\", \"moment\": \"modified\", \"value\": 24944.59}, {\"year\": 2015, \"source\": \"1 FONDO GENERAL\", \"moment\": \"modified\", \"value\": 42226.79}, {\"year\": 2015, \"source\": \"1 FONDO GENERAL\", \"moment\": \"modified\", \"value\": 1965725.97}, {\"year\": 2015, \"source\": \"1 FONDO GENERAL\", \"moment\": \"modified\", \"value\": 27075.0}, {\"year\": 2015, \"source\": \"1 FONDO GENERAL\", \"moment\": \"modified\", \"value\": 409297.28}, {\"year\": 2015, \"source\": \"1 FONDO GENERAL\", \"moment\": \"modified\", \"value\": 552199.76}, {\"year\": 2015, \"source\": \"3 PRESTAMOS EXTERNOS\", \"moment\": \"modified\", \"value\": 4000000.0}, {\"year\": 2015, \"source\": \"1 FONDO GENERAL\", \"moment\": \"modified\", \"value\": 25676.52}, {\"year\": 2016, \"source\": \"1 FONDO GENERAL\", \"moment\": \"modified\", \"value\": 27064049.95}, {\"year\": 2016, \"source\": \"1 FONDO GENERAL\", \"moment\": \"modified\", \"value\": 4100000.0}, {\"year\": 2016, \"source\": \"1 FONDO GENERAL\", \"moment\": \"modified\", \"value\": 2988120.0}, {\"year\": 2016, \"source\": \"1 FONDO GENERAL\", \"moment\": \"modified\", \"value\": 29015.0}, {\"year\": 2016, \"source\": \"5 DONACIONES\", \"moment\": \"modified\", \"value\": 550000.0}, {\"year\": 2016, \"source\": \"1 FONDO GENERAL\", \"moment\": \"modified\", \"value\": 1478510.0}, {\"year\": 2016, \"source\": \"1 FONDO GENERAL\", \"moment\": \"modified\", \"value\": 1290985.0}, {\"year\": 2017, \"source\": \"1 FONDO GENERAL\", \"moment\": \"modified\", \"value\": 2642310.0}, {\"year\": 2017, \"source\": \"1 FONDO GENERAL\", \"moment\": \"modified\", \"value\": 1712000.0}, {\"year\": 2017, \"source\": \"1 FONDO GENERAL\", \"moment\": \"modified\", \"value\": 0.0}, {\"year\": 2017, \"source\": \"5 DONACIONES\", \"moment\": \"modified\", \"value\": 0.0}, {\"year\": 2017, \"source\": \"1 FONDO GENERAL\", \"moment\": \"modified\", \"value\": 25001910.0}, {\"year\": 2017, \"source\": \"1 FONDO GENERAL\", \"moment\": \"modified\", \"value\": 1675410.0}, {\"year\": 2017, \"source\": \"1 FONDO GENERAL\", \"moment\": \"modified\", \"value\": 500000.0}, {\"year\": 2012, \"source\": \"3 PRESTAMOS EXTERNOS\", \"moment\": \"accrued\", \"value\": 10752157.0}, {\"year\": 2012, \"source\": \"3 PRESTAMOS EXTERNOS\", \"moment\": \"accrued\", \"value\": 1020625.0}, {\"year\": 2012, \"source\": \"1 FONDO GENERAL\", \"moment\": \"accrued\", \"value\": 1749678.06}, {\"year\": 2012, \"source\": \"3 PRESTAMOS EXTERNOS\", \"moment\": \"accrued\", \"value\": 904925.0}, {\"year\": 2012, \"source\": \"3 PRESTAMOS EXTERNOS\", \"moment\": \"accrued\", \"value\": 4808060.0}, {\"year\": 2012, \"source\": \"1 FONDO GENERAL\", \"moment\": \"accrued\", \"value\": 93865.0}, {\"year\": 2012, \"source\": \"1 FONDO GENERAL\", \"moment\": \"accrued\", \"value\": 21205270.0}, {\"year\": 2012, \"source\": \"1 FONDO GENERAL\", \"moment\": \"accrued\", \"value\": 1040605.21}, {\"year\": 2012, \"source\": \"3 PRESTAMOS EXTERNOS\", \"moment\": \"accrued\", \"value\": 3459434.0}, {\"year\": 2012, \"source\": \"1 FONDO GENERAL\", \"moment\": \"accrued\", \"value\": 6667256.07}, {\"year\": 2012, \"source\": \"3 PRESTAMOS EXTERNOS\", \"moment\": \"accrued\", \"value\": 2146855.0}, {\"year\": 2012, \"source\": \"3 PRESTAMOS EXTERNOS\", \"moment\": \"accrued\", \"value\": 368800.0}, {\"year\": 2012, \"source\": \"3 PRESTAMOS EXTERNOS\", \"moment\": \"accrued\", \"value\": 732050.0}, {\"year\": 2012, \"source\": \"1 FONDO GENERAL\", \"moment\": \"accrued\", \"value\": 1645801.67}, {\"year\": 2012, \"source\": \"5 DONACIONES\", \"moment\": \"accrued\", \"value\": 4500000.0}, {\"year\": 2012, \"source\": \"1 FONDO GENERAL\", \"moment\": \"accrued\", \"value\": 136038.41}, {\"year\": 2012, \"source\": \"1 FONDO GENERAL\", \"moment\": \"accrued\", \"value\": 8577045.35}, {\"year\": 2012, \"source\": \"3 PRESTAMOS EXTERNOS\", \"moment\": \"accrued\", \"value\": 2474566.0}, {\"year\": 2012, \"source\": \"1 FONDO GENERAL\", \"moment\": \"accrued\", \"value\": 1323244.6}, {\"year\": 2012, \"source\": \"1 FONDO GENERAL\", \"moment\": \"accrued\", \"value\": 34315.44}, {\"year\": 2012, \"source\": \"3 PRESTAMOS EXTERNOS\", \"moment\": \"accrued\", \"value\": 500973.0}, {\"year\": 2012, \"source\": \"3 PRESTAMOS EXTERNOS\", \"moment\": \"accrued\", \"value\": 1164825.0}, {\"year\": 2012, \"source\": \"1 FONDO GENERAL\", \"moment\": \"accrued\", \"value\": 698480.41}, {\"year\": 2012, \"source\": \"1 FONDO GENERAL\", \"moment\": \"accrued\", \"value\": 36959.69}, {\"year\": 2013, \"source\": \"1 FONDO GENERAL\", \"moment\": \"accrued\", \"value\": 2961162.07}, {\"year\": 2013, \"source\": \"1 FONDO GENERAL\", \"moment\": \"accrued\", \"value\": 9756652.48}, {\"year\": 2013, \"source\": \"1 FONDO GENERAL\", \"moment\": \"accrued\", \"value\": 5022566.13}, {\"year\": 2013, \"source\": \"1 FONDO GENERAL\", \"moment\": \"accrued\", \"value\": 21207644.7}, {\"year\": 2013, \"source\": \"1 FONDO GENERAL\", \"moment\": \"accrued\", \"value\": 13814682.22}, {\"year\": 2013, \"source\": \"1 FONDO GENERAL\", \"moment\": \"accrued\", \"value\": 6680716.06}, {\"year\": 2013, \"source\": \"1 FONDO GENERAL\", \"moment\": \"accrued\", \"value\": 3070603.91}, {\"year\": 2013, \"source\": \"1 FONDO GENERAL\", \"moment\": \"accrued\", \"value\": 10709149.77}, {\"year\": 2013, \"source\": \"1 FONDO GENERAL\", \"moment\": \"accrued\", \"value\": 239047.9}, {\"year\": 2013, \"source\": \"1 FONDO GENERAL\", \"moment\": \"accrued\", \"value\": 4256755.78}, {\"year\": 2013, \"source\": \"1 FONDO GENERAL\", \"moment\": \"accrued\", \"value\": 3230820.0}, {\"year\": 2013, \"source\": \"1 FONDO GENERAL\", \"moment\": \"accrued\", \"value\": 102095.31}, {\"year\": 2013, \"source\": \"1 FONDO GENERAL\", \"moment\": \"accrued\", \"value\": 619305.05}, {\"year\": 2014, \"source\": \"5 DONACIONES\", \"moment\": \"accrued\", \"value\": 824460.65}, {\"year\": 2014, \"source\": \"1 FONDO GENERAL\", \"moment\": \"accrued\", \"value\": 8725069.86}, {\"year\": 2014, \"source\": \"1 FONDO GENERAL\", \"moment\": \"accrued\", \"value\": 506617.87}, {\"year\": 2014, \"source\": \"1 FONDO GENERAL\", \"moment\": \"accrued\", \"value\": 1104660.26}, {\"year\": 2014, \"source\": \"1 FONDO GENERAL\", \"moment\": \"accrued\", \"value\": 1859124.62}, {\"year\": 2014, \"source\": \"1 FONDO GENERAL\", \"moment\": \"accrued\", \"value\": 21578115.69}, {\"year\": 2014, \"source\": \"1 FONDO GENERAL\", \"moment\": \"accrued\", \"value\": 8702819.34}, {\"year\": 2014, \"source\": \"1 FONDO GENERAL\", \"moment\": \"accrued\", \"value\": 433770.56}, {\"year\": 2014, \"source\": \"1 FONDO GENERAL\", \"moment\": \"accrued\", \"value\": 9288.63}, {\"year\": 2015, \"source\": \"1 FONDO GENERAL\", \"moment\": \"accrued\", \"value\": 9741158.8}, {\"year\": 2015, \"source\": \"1 FONDO GENERAL\", \"moment\": \"accrued\", \"value\": 4707778.79}, {\"year\": 2015, \"source\": \"1 FONDO GENERAL\", \"moment\": \"accrued\", \"value\": 457125.6}, {\"year\": 2015, \"source\": \"5 DONACIONES\", \"moment\": \"accrued\", \"value\": 1779349.09}, {\"year\": 2015, \"source\": \"1 FONDO GENERAL\", \"moment\": \"accrued\", \"value\": 20103156.03}, {\"year\": 2015, \"source\": \"1 FONDO GENERAL\", \"moment\": \"accrued\", \"value\": 1806218.02}, {\"year\": 2015, \"source\": \"1 FONDO GENERAL\", \"moment\": \"accrued\", \"value\": 659537.0}, {\"year\": 2015, \"source\": \"1 FONDO GENERAL\", \"moment\": \"accrued\", \"value\": 7973342.17}, {\"year\": 2015, \"source\": \"1 FONDO GENERAL\", \"moment\": \"accrued\", \"value\": 20859.48}, {\"year\": 2015, \"source\": \"1 FONDO GENERAL\", \"moment\": \"accrued\", \"value\": 24944.59}, {\"year\": 2015, \"source\": \"1 FONDO GENERAL\", \"moment\": \"accrued\", \"value\": 42226.79}, {\"year\": 2015, \"source\": \"1 FONDO GENERAL\", \"moment\": \"accrued\", \"value\": 1965725.97}, {\"year\": 2015, \"source\": \"1 FONDO GENERAL\", \"moment\": \"accrued\", \"value\": 27075.0}, {\"year\": 2015, \"source\": \"1 FONDO GENERAL\", \"moment\": \"accrued\", \"value\": 409297.28}, {\"year\": 2015, \"source\": \"1 FONDO GENERAL\", \"moment\": \"accrued\", \"value\": 552199.76}, {\"year\": 2015, \"source\": \"3 PRESTAMOS EXTERNOS\", \"moment\": \"accrued\", \"value\": 4000000.0}, {\"year\": 2015, \"source\": \"1 FONDO GENERAL\", \"moment\": \"accrued\", \"value\": 25676.52}, {\"year\": 2016, \"source\": \"1 FONDO GENERAL\", \"moment\": \"accrued\", \"value\": 23109070.62}, {\"year\": 2016, \"source\": \"1 FONDO GENERAL\", \"moment\": \"accrued\", \"value\": 4100000.0}, {\"year\": 2016, \"source\": \"1 FONDO GENERAL\", \"moment\": \"accrued\", \"value\": 2988120.0}, {\"year\": 2016, \"source\": \"1 FONDO GENERAL\", \"moment\": \"accrued\", \"value\": 29015.0}, {\"year\": 2016, \"source\": \"5 DONACIONES\", \"moment\": \"accrued\", \"value\": 800000.0}, {\"year\": 2016, \"source\": \"1 FONDO GENERAL\", \"moment\": \"accrued\", \"value\": 1478510.0}, {\"year\": 2016, \"source\": \"1 FONDO GENERAL\", \"moment\": \"accrued\", \"value\": 1290985.0}, {\"year\": 2017, \"source\": \"1 FONDO GENERAL\", \"moment\": \"accrued\", \"value\": 2642310.0}, {\"year\": 2017, \"source\": \"1 FONDO GENERAL\", \"moment\": \"accrued\", \"value\": 1712000.0}, {\"year\": 2017, \"source\": \"1 FONDO GENERAL\", \"moment\": \"accrued\", \"value\": 0.0}, {\"year\": 2017, \"source\": \"5 DONACIONES\", \"moment\": \"accrued\", \"value\": 450000.0}, {\"year\": 2017, \"source\": \"1 FONDO GENERAL\", \"moment\": \"accrued\", \"value\": 25001910.0}, {\"year\": 2017, \"source\": \"1 FONDO GENERAL\", \"moment\": \"accrued\", \"value\": 1675410.0}, {\"year\": 2017, \"source\": \"1 FONDO GENERAL\", \"moment\": \"accrued\", \"value\": 500000.0}]}};\n",
       "const opt = {};\n",
       "const type = \"vega-lite\";\n",
       "const id = \"d1e5d3fd-25d9-40fa-b871-077e88dbc73b\";\n",
       "\n",
       "const output_area = this;\n",
       "\n",
       "require([\"nbextensions/jupyter-vega/index\"], function(vega) {\n",
       "  const target = document.createElement(\"div\");\n",
       "  target.id = id;\n",
       "  target.className = \"vega-embed\";\n",
       "\n",
       "  const style = document.createElement(\"style\");\n",
       "  style.textContent = [\n",
       "    \".vega-embed .error p {\",\n",
       "    \"  color: firebrick;\",\n",
       "    \"  font-size: 14px;\",\n",
       "    \"}\",\n",
       "  ].join(\"\\\\n\");\n",
       "\n",
       "  // element is a jQuery wrapped DOM element inside the output area\n",
       "  // see http://ipython.readthedocs.io/en/stable/api/generated/\\\n",
       "  // IPython.display.html#IPython.display.Javascript.__init__\n",
       "  element[0].appendChild(target);\n",
       "  element[0].appendChild(style);\n",
       "\n",
       "  vega.render(\"#\" + id, spec, type, opt, output_area);\n",
       "}, function (err) {\n",
       "  if (err.requireType !== \"scripterror\") {\n",
       "    throw(err);\n",
       "  }\n",
       "});\n"
      ],
      "text/plain": [
       "<vega.vegalite.VegaLite at 0x7f4ce429be50>"
      ]
     },
     "execution_count": 99,
     "metadata": {
      "jupyter-vega": "#d1e5d3fd-25d9-40fa-b871-077e88dbc73b"
     },
     "output_type": "execute_result"
    },
    {
     "data": {
      "image/png": "[encoded data removed]"
     },
     "metadata": {
      "jupyter-vega": "#d1e5d3fd-25d9-40fa-b871-077e88dbc73b"
     },
     "output_type": "display_data"
    }
   ],
   "source": [
    "VegaLite({\n",
    "    \"$schema\": \"https://vega.github.io/schema/vega-lite/v5.json\",\n",
    "    \"mark\": \"bar\",\n",
    "    \"width\": 500,\n",
    "    \"encoding\": {\n",
    "        \"y\": {\"aggregate\": \"sum\", \"type\": \"quantitative\", \"field\": \"value\"},\n",
    "        \"x\": {\"type\": \"nominal\", \"field\": \"year\"},\n",
    "        \"color\": {\"field\": \"moment\"}\n",
    "    },\n",
    "    \"transform\": [\n",
    "\n",
    "    ],\n",
    "    \"config\": {\n",
    "        \"numberFormat\": \"~s\",\n",
    "    }\n",
    "}, data)"
   ]
  },
  {
   "cell_type": "code",
   "execution_count": 97,
   "id": "d866e1fa",
   "metadata": {},
   "outputs": [
    {
     "data": {
      "application/javascript": [
       "const spec = {\"$schema\": \"https://vega.github.io/schema/vega-lite/v5.json\", \"mark\": \"bar\", \"width\": 500, \"encoding\": {\"y\": {\"aggregate\": \"sum\", \"type\": \"quantitative\", \"field\": \"value\"}, \"x\": {\"type\": \"nominal\", \"field\": \"year\"}, \"color\": {\"field\": \"source\"}}, \"transform\": [{\"filter\": \"datum.moment == 'accrued'\"}], \"config\": {\"numberFormat\": \"~s\"}, \"data\": {\"values\": [{\"year\": 2012, \"source\": \"3 PRESTAMOS EXTERNOS\", \"moment\": \"approved\", \"value\": 0.0}, {\"year\": 2012, \"source\": \"3 PRESTAMOS EXTERNOS\", \"moment\": \"approved\", \"value\": 0.0}, {\"year\": 2012, \"source\": \"1 FONDO GENERAL\", \"moment\": \"approved\", \"value\": 0.0}, {\"year\": 2012, \"source\": \"3 PRESTAMOS EXTERNOS\", \"moment\": \"approved\", \"value\": 0.0}, {\"year\": 2012, \"source\": \"3 PRESTAMOS EXTERNOS\", \"moment\": \"approved\", \"value\": 0.0}, {\"year\": 2012, \"source\": \"1 FONDO GENERAL\", \"moment\": \"approved\", \"value\": 0.0}, {\"year\": 2012, \"source\": \"1 FONDO GENERAL\", \"moment\": \"approved\", \"value\": 21205270.0}, {\"year\": 2012, \"source\": \"1 FONDO GENERAL\", \"moment\": \"approved\", \"value\": 0.0}, {\"year\": 2012, \"source\": \"3 PRESTAMOS EXTERNOS\", \"moment\": \"approved\", \"value\": 0.0}, {\"year\": 2012, \"source\": \"1 FONDO GENERAL\", \"moment\": \"approved\", \"value\": 0.0}, {\"year\": 2012, \"source\": \"3 PRESTAMOS EXTERNOS\", \"moment\": \"approved\", \"value\": 0.0}, {\"year\": 2012, \"source\": \"3 PRESTAMOS EXTERNOS\", \"moment\": \"approved\", \"value\": 0.0}, {\"year\": 2012, \"source\": \"3 PRESTAMOS EXTERNOS\", \"moment\": \"approved\", \"value\": 0.0}, {\"year\": 2012, \"source\": \"1 FONDO GENERAL\", \"moment\": \"approved\", \"value\": 0.0}, {\"year\": 2012, \"source\": \"5 DONACIONES\", \"moment\": \"approved\", \"value\": 0.0}, {\"year\": 2012, \"source\": \"1 FONDO GENERAL\", \"moment\": \"approved\", \"value\": 0.0}, {\"year\": 2012, \"source\": \"1 FONDO GENERAL\", \"moment\": \"approved\", \"value\": 0.0}, {\"year\": 2012, \"source\": \"3 PRESTAMOS EXTERNOS\", \"moment\": \"approved\", \"value\": 0.0}, {\"year\": 2012, \"source\": \"1 FONDO GENERAL\", \"moment\": \"approved\", \"value\": 0.0}, {\"year\": 2012, \"source\": \"1 FONDO GENERAL\", \"moment\": \"approved\", \"value\": 0.0}, {\"year\": 2012, \"source\": \"3 PRESTAMOS EXTERNOS\", \"moment\": \"approved\", \"value\": 0.0}, {\"year\": 2012, \"source\": \"3 PRESTAMOS EXTERNOS\", \"moment\": \"approved\", \"value\": 0.0}, {\"year\": 2012, \"source\": \"1 FONDO GENERAL\", \"moment\": \"approved\", \"value\": 0.0}, {\"year\": 2012, \"source\": \"1 FONDO GENERAL\", \"moment\": \"approved\", \"value\": 0.0}, {\"year\": 2013, \"source\": \"1 FONDO GENERAL\", \"moment\": \"approved\", \"value\": 0.0}, {\"year\": 2013, \"source\": \"1 FONDO GENERAL\", \"moment\": \"approved\", \"value\": 0.0}, {\"year\": 2013, \"source\": \"1 FONDO GENERAL\", \"moment\": \"approved\", \"value\": 0.0}, {\"year\": 2013, \"source\": \"1 FONDO GENERAL\", \"moment\": \"approved\", \"value\": 21205270.0}, {\"year\": 2013, \"source\": \"1 FONDO GENERAL\", \"moment\": \"approved\", \"value\": 0.0}, {\"year\": 2013, \"source\": \"1 FONDO GENERAL\", \"moment\": \"approved\", \"value\": 0.0}, {\"year\": 2013, \"source\": \"1 FONDO GENERAL\", \"moment\": \"approved\", \"value\": 0.0}, {\"year\": 2013, \"source\": \"1 FONDO GENERAL\", \"moment\": \"approved\", \"value\": 0.0}, {\"year\": 2013, \"source\": \"1 FONDO GENERAL\", \"moment\": \"approved\", \"value\": 0.0}, {\"year\": 2013, \"source\": \"1 FONDO GENERAL\", \"moment\": \"approved\", \"value\": 0.0}, {\"year\": 2013, \"source\": \"1 FONDO GENERAL\", \"moment\": \"approved\", \"value\": 0.0}, {\"year\": 2013, \"source\": \"1 FONDO GENERAL\", \"moment\": \"approved\", \"value\": 0.0}, {\"year\": 2013, \"source\": \"1 FONDO GENERAL\", \"moment\": \"approved\", \"value\": 0.0}, {\"year\": 2014, \"source\": \"5 DONACIONES\", \"moment\": \"approved\", \"value\": 714480.0}, {\"year\": 2014, \"source\": \"1 FONDO GENERAL\", \"moment\": \"approved\", \"value\": 0.0}, {\"year\": 2014, \"source\": \"1 FONDO GENERAL\", \"moment\": \"approved\", \"value\": 0.0}, {\"year\": 2014, \"source\": \"1 FONDO GENERAL\", \"moment\": \"approved\", \"value\": 0.0}, {\"year\": 2014, \"source\": \"1 FONDO GENERAL\", \"moment\": \"approved\", \"value\": 0.0}, {\"year\": 2014, \"source\": \"1 FONDO GENERAL\", \"moment\": \"approved\", \"value\": 19643510.0}, {\"year\": 2014, \"source\": \"1 FONDO GENERAL\", \"moment\": \"approved\", \"value\": 0.0}, {\"year\": 2014, \"source\": \"1 FONDO GENERAL\", \"moment\": \"approved\", \"value\": 0.0}, {\"year\": 2014, \"source\": \"1 FONDO GENERAL\", \"moment\": \"approved\", \"value\": 0.0}, {\"year\": 2015, \"source\": \"1 FONDO GENERAL\", \"moment\": \"approved\", \"value\": 0.0}, {\"year\": 2015, \"source\": \"1 FONDO GENERAL\", \"moment\": \"approved\", \"value\": 0.0}, {\"year\": 2015, \"source\": \"1 FONDO GENERAL\", \"moment\": \"approved\", \"value\": 0.0}, {\"year\": 2015, \"source\": \"5 DONACIONES\", \"moment\": \"approved\", \"value\": 803135.31}, {\"year\": 2015, \"source\": \"1 FONDO GENERAL\", \"moment\": \"approved\", \"value\": 21470220.0}, {\"year\": 2015, \"source\": \"1 FONDO GENERAL\", \"moment\": \"approved\", \"value\": 0.0}, {\"year\": 2015, \"source\": \"1 FONDO GENERAL\", \"moment\": \"approved\", \"value\": 0.0}, {\"year\": 2015, \"source\": \"1 FONDO GENERAL\", \"moment\": \"approved\", \"value\": 0.0}, {\"year\": 2015, \"source\": \"1 FONDO GENERAL\", \"moment\": \"approved\", \"value\": 0.0}, {\"year\": 2015, \"source\": \"1 FONDO GENERAL\", \"moment\": \"approved\", \"value\": 0.0}, {\"year\": 2015, \"source\": \"1 FONDO GENERAL\", \"moment\": \"approved\", \"value\": 0.0}, {\"year\": 2015, \"source\": \"1 FONDO GENERAL\", \"moment\": \"approved\", \"value\": 0.0}, {\"year\": 2015, \"source\": \"1 FONDO GENERAL\", \"moment\": \"approved\", \"value\": 0.0}, {\"year\": 2015, \"source\": \"1 FONDO GENERAL\", \"moment\": \"approved\", \"value\": 0.0}, {\"year\": 2015, \"source\": \"1 FONDO GENERAL\", \"moment\": \"approved\", \"value\": 0.0}, {\"year\": 2015, \"source\": \"3 PRESTAMOS EXTERNOS\", \"moment\": \"approved\", \"value\": 0.0}, {\"year\": 2015, \"source\": \"1 FONDO GENERAL\", \"moment\": \"approved\", \"value\": 0.0}, {\"year\": 2016, \"source\": \"1 FONDO GENERAL\", \"moment\": \"approved\", \"value\": 24470105.0}, {\"year\": 2016, \"source\": \"1 FONDO GENERAL\", \"moment\": \"approved\", \"value\": 0.0}, {\"year\": 2016, \"source\": \"1 FONDO GENERAL\", \"moment\": \"approved\", \"value\": 0.0}, {\"year\": 2016, \"source\": \"1 FONDO GENERAL\", \"moment\": \"approved\", \"value\": 0.0}, {\"year\": 2016, \"source\": \"5 DONACIONES\", \"moment\": \"approved\", \"value\": 550000.0}, {\"year\": 2016, \"source\": \"1 FONDO GENERAL\", \"moment\": \"approved\", \"value\": 0.0}, {\"year\": 2016, \"source\": \"1 FONDO GENERAL\", \"moment\": \"approved\", \"value\": 0.0}, {\"year\": 2017, \"source\": \"1 FONDO GENERAL\", \"moment\": \"approved\", \"value\": 2976653.29}, {\"year\": 2017, \"source\": \"1 FONDO GENERAL\", \"moment\": \"approved\", \"value\": 4064038.45}, {\"year\": 2017, \"source\": \"1 FONDO GENERAL\", \"moment\": \"approved\", \"value\": 29015.0}, {\"year\": 2017, \"source\": \"5 DONACIONES\", \"moment\": \"approved\", \"value\": 0.0}, {\"year\": 2017, \"source\": \"1 FONDO GENERAL\", \"moment\": \"approved\", \"value\": 24469260.0}, {\"year\": 2017, \"source\": \"1 FONDO GENERAL\", \"moment\": \"approved\", \"value\": 0.0}, {\"year\": 2017, \"source\": \"1 FONDO GENERAL\", \"moment\": \"approved\", \"value\": 559320.5}, {\"year\": 2012, \"source\": \"3 PRESTAMOS EXTERNOS\", \"moment\": \"modified\", \"value\": 10752157.0}, {\"year\": 2012, \"source\": \"3 PRESTAMOS EXTERNOS\", \"moment\": \"modified\", \"value\": 1020625.0}, {\"year\": 2012, \"source\": \"1 FONDO GENERAL\", \"moment\": \"modified\", \"value\": 1749678.06}, {\"year\": 2012, \"source\": \"3 PRESTAMOS EXTERNOS\", \"moment\": \"modified\", \"value\": 904925.0}, {\"year\": 2012, \"source\": \"3 PRESTAMOS EXTERNOS\", \"moment\": \"modified\", \"value\": 4808060.0}, {\"year\": 2012, \"source\": \"1 FONDO GENERAL\", \"moment\": \"modified\", \"value\": 93865.0}, {\"year\": 2012, \"source\": \"1 FONDO GENERAL\", \"moment\": \"modified\", \"value\": 21205270.0}, {\"year\": 2012, \"source\": \"1 FONDO GENERAL\", \"moment\": \"modified\", \"value\": 1040605.21}, {\"year\": 2012, \"source\": \"3 PRESTAMOS EXTERNOS\", \"moment\": \"modified\", \"value\": 3459434.0}, {\"year\": 2012, \"source\": \"1 FONDO GENERAL\", \"moment\": \"modified\", \"value\": 6667256.07}, {\"year\": 2012, \"source\": \"3 PRESTAMOS EXTERNOS\", \"moment\": \"modified\", \"value\": 2146855.0}, {\"year\": 2012, \"source\": \"3 PRESTAMOS EXTERNOS\", \"moment\": \"modified\", \"value\": 368800.0}, {\"year\": 2012, \"source\": \"3 PRESTAMOS EXTERNOS\", \"moment\": \"modified\", \"value\": 732050.0}, {\"year\": 2012, \"source\": \"1 FONDO GENERAL\", \"moment\": \"modified\", \"value\": 1645801.67}, {\"year\": 2012, \"source\": \"5 DONACIONES\", \"moment\": \"modified\", \"value\": 4500000.0}, {\"year\": 2012, \"source\": \"1 FONDO GENERAL\", \"moment\": \"modified\", \"value\": 136038.41}, {\"year\": 2012, \"source\": \"1 FONDO GENERAL\", \"moment\": \"modified\", \"value\": 8577045.35}, {\"year\": 2012, \"source\": \"3 PRESTAMOS EXTERNOS\", \"moment\": \"modified\", \"value\": 2474566.0}, {\"year\": 2012, \"source\": \"1 FONDO GENERAL\", \"moment\": \"modified\", \"value\": 1323244.6}, {\"year\": 2012, \"source\": \"1 FONDO GENERAL\", \"moment\": \"modified\", \"value\": 34315.44}, {\"year\": 2012, \"source\": \"3 PRESTAMOS EXTERNOS\", \"moment\": \"modified\", \"value\": 500973.0}, {\"year\": 2012, \"source\": \"3 PRESTAMOS EXTERNOS\", \"moment\": \"modified\", \"value\": 1164825.0}, {\"year\": 2012, \"source\": \"1 FONDO GENERAL\", \"moment\": \"modified\", \"value\": 698480.41}, {\"year\": 2012, \"source\": \"1 FONDO GENERAL\", \"moment\": \"modified\", \"value\": 36959.69}, {\"year\": 2013, \"source\": \"1 FONDO GENERAL\", \"moment\": \"modified\", \"value\": 2961162.07}, {\"year\": 2013, \"source\": \"1 FONDO GENERAL\", \"moment\": \"modified\", \"value\": 9756652.48}, {\"year\": 2013, \"source\": \"1 FONDO GENERAL\", \"moment\": \"modified\", \"value\": 5022566.13}, {\"year\": 2013, \"source\": \"1 FONDO GENERAL\", \"moment\": \"modified\", \"value\": 21207644.7}, {\"year\": 2013, \"source\": \"1 FONDO GENERAL\", \"moment\": \"modified\", \"value\": 13814682.22}, {\"year\": 2013, \"source\": \"1 FONDO GENERAL\", \"moment\": \"modified\", \"value\": 6680716.06}, {\"year\": 2013, \"source\": \"1 FONDO GENERAL\", \"moment\": \"modified\", \"value\": 3070603.91}, {\"year\": 2013, \"source\": \"1 FONDO GENERAL\", \"moment\": \"modified\", \"value\": 10709149.77}, {\"year\": 2013, \"source\": \"1 FONDO GENERAL\", \"moment\": \"modified\", \"value\": 239047.9}, {\"year\": 2013, \"source\": \"1 FONDO GENERAL\", \"moment\": \"modified\", \"value\": 4256755.78}, {\"year\": 2013, \"source\": \"1 FONDO GENERAL\", \"moment\": \"modified\", \"value\": 3230820.0}, {\"year\": 2013, \"source\": \"1 FONDO GENERAL\", \"moment\": \"modified\", \"value\": 102095.31}, {\"year\": 2013, \"source\": \"1 FONDO GENERAL\", \"moment\": \"modified\", \"value\": 619305.05}, {\"year\": 2014, \"source\": \"5 DONACIONES\", \"moment\": \"modified\", \"value\": 1400000.0}, {\"year\": 2014, \"source\": \"1 FONDO GENERAL\", \"moment\": \"modified\", \"value\": 8725069.86}, {\"year\": 2014, \"source\": \"1 FONDO GENERAL\", \"moment\": \"modified\", \"value\": 506617.87}, {\"year\": 2014, \"source\": \"1 FONDO GENERAL\", \"moment\": \"modified\", \"value\": 1104660.26}, {\"year\": 2014, \"source\": \"1 FONDO GENERAL\", \"moment\": \"modified\", \"value\": 1859124.62}, {\"year\": 2014, \"source\": \"1 FONDO GENERAL\", \"moment\": \"modified\", \"value\": 21578115.69}, {\"year\": 2014, \"source\": \"1 FONDO GENERAL\", \"moment\": \"modified\", \"value\": 8702819.34}, {\"year\": 2014, \"source\": \"1 FONDO GENERAL\", \"moment\": \"modified\", \"value\": 433770.56}, {\"year\": 2014, \"source\": \"1 FONDO GENERAL\", \"moment\": \"modified\", \"value\": 9288.63}, {\"year\": 2015, \"source\": \"1 FONDO GENERAL\", \"moment\": \"modified\", \"value\": 9741158.8}, {\"year\": 2015, \"source\": \"1 FONDO GENERAL\", \"moment\": \"modified\", \"value\": 4707778.79}, {\"year\": 2015, \"source\": \"1 FONDO GENERAL\", \"moment\": \"modified\", \"value\": 457125.6}, {\"year\": 2015, \"source\": \"5 DONACIONES\", \"moment\": \"modified\", \"value\": 1003135.31}, {\"year\": 2015, \"source\": \"1 FONDO GENERAL\", \"moment\": \"modified\", \"value\": 20103156.03}, {\"year\": 2015, \"source\": \"1 FONDO GENERAL\", \"moment\": \"modified\", \"value\": 1806218.02}, {\"year\": 2015, \"source\": \"1 FONDO GENERAL\", \"moment\": \"modified\", \"value\": 659537.0}, {\"year\": 2015, \"source\": \"1 FONDO GENERAL\", \"moment\": \"modified\", \"value\": 7973342.17}, {\"year\": 2015, \"source\": \"1 FONDO GENERAL\", \"moment\": \"modified\", \"value\": 20859.48}, {\"year\": 2015, \"source\": \"1 FONDO GENERAL\", \"moment\": \"modified\", \"value\": 24944.59}, {\"year\": 2015, \"source\": \"1 FONDO GENERAL\", \"moment\": \"modified\", \"value\": 42226.79}, {\"year\": 2015, \"source\": \"1 FONDO GENERAL\", \"moment\": \"modified\", \"value\": 1965725.97}, {\"year\": 2015, \"source\": \"1 FONDO GENERAL\", \"moment\": \"modified\", \"value\": 27075.0}, {\"year\": 2015, \"source\": \"1 FONDO GENERAL\", \"moment\": \"modified\", \"value\": 409297.28}, {\"year\": 2015, \"source\": \"1 FONDO GENERAL\", \"moment\": \"modified\", \"value\": 552199.76}, {\"year\": 2015, \"source\": \"3 PRESTAMOS EXTERNOS\", \"moment\": \"modified\", \"value\": 4000000.0}, {\"year\": 2015, \"source\": \"1 FONDO GENERAL\", \"moment\": \"modified\", \"value\": 25676.52}, {\"year\": 2016, \"source\": \"1 FONDO GENERAL\", \"moment\": \"modified\", \"value\": 27064049.95}, {\"year\": 2016, \"source\": \"1 FONDO GENERAL\", \"moment\": \"modified\", \"value\": 4100000.0}, {\"year\": 2016, \"source\": \"1 FONDO GENERAL\", \"moment\": \"modified\", \"value\": 2988120.0}, {\"year\": 2016, \"source\": \"1 FONDO GENERAL\", \"moment\": \"modified\", \"value\": 29015.0}, {\"year\": 2016, \"source\": \"5 DONACIONES\", \"moment\": \"modified\", \"value\": 550000.0}, {\"year\": 2016, \"source\": \"1 FONDO GENERAL\", \"moment\": \"modified\", \"value\": 1478510.0}, {\"year\": 2016, \"source\": \"1 FONDO GENERAL\", \"moment\": \"modified\", \"value\": 1290985.0}, {\"year\": 2017, \"source\": \"1 FONDO GENERAL\", \"moment\": \"modified\", \"value\": 2642310.0}, {\"year\": 2017, \"source\": \"1 FONDO GENERAL\", \"moment\": \"modified\", \"value\": 1712000.0}, {\"year\": 2017, \"source\": \"1 FONDO GENERAL\", \"moment\": \"modified\", \"value\": 0.0}, {\"year\": 2017, \"source\": \"5 DONACIONES\", \"moment\": \"modified\", \"value\": 0.0}, {\"year\": 2017, \"source\": \"1 FONDO GENERAL\", \"moment\": \"modified\", \"value\": 25001910.0}, {\"year\": 2017, \"source\": \"1 FONDO GENERAL\", \"moment\": \"modified\", \"value\": 1675410.0}, {\"year\": 2017, \"source\": \"1 FONDO GENERAL\", \"moment\": \"modified\", \"value\": 500000.0}, {\"year\": 2012, \"source\": \"3 PRESTAMOS EXTERNOS\", \"moment\": \"accrued\", \"value\": 10752157.0}, {\"year\": 2012, \"source\": \"3 PRESTAMOS EXTERNOS\", \"moment\": \"accrued\", \"value\": 1020625.0}, {\"year\": 2012, \"source\": \"1 FONDO GENERAL\", \"moment\": \"accrued\", \"value\": 1749678.06}, {\"year\": 2012, \"source\": \"3 PRESTAMOS EXTERNOS\", \"moment\": \"accrued\", \"value\": 904925.0}, {\"year\": 2012, \"source\": \"3 PRESTAMOS EXTERNOS\", \"moment\": \"accrued\", \"value\": 4808060.0}, {\"year\": 2012, \"source\": \"1 FONDO GENERAL\", \"moment\": \"accrued\", \"value\": 93865.0}, {\"year\": 2012, \"source\": \"1 FONDO GENERAL\", \"moment\": \"accrued\", \"value\": 21205270.0}, {\"year\": 2012, \"source\": \"1 FONDO GENERAL\", \"moment\": \"accrued\", \"value\": 1040605.21}, {\"year\": 2012, \"source\": \"3 PRESTAMOS EXTERNOS\", \"moment\": \"accrued\", \"value\": 3459434.0}, {\"year\": 2012, \"source\": \"1 FONDO GENERAL\", \"moment\": \"accrued\", \"value\": 6667256.07}, {\"year\": 2012, \"source\": \"3 PRESTAMOS EXTERNOS\", \"moment\": \"accrued\", \"value\": 2146855.0}, {\"year\": 2012, \"source\": \"3 PRESTAMOS EXTERNOS\", \"moment\": \"accrued\", \"value\": 368800.0}, {\"year\": 2012, \"source\": \"3 PRESTAMOS EXTERNOS\", \"moment\": \"accrued\", \"value\": 732050.0}, {\"year\": 2012, \"source\": \"1 FONDO GENERAL\", \"moment\": \"accrued\", \"value\": 1645801.67}, {\"year\": 2012, \"source\": \"5 DONACIONES\", \"moment\": \"accrued\", \"value\": 4500000.0}, {\"year\": 2012, \"source\": \"1 FONDO GENERAL\", \"moment\": \"accrued\", \"value\": 136038.41}, {\"year\": 2012, \"source\": \"1 FONDO GENERAL\", \"moment\": \"accrued\", \"value\": 8577045.35}, {\"year\": 2012, \"source\": \"3 PRESTAMOS EXTERNOS\", \"moment\": \"accrued\", \"value\": 2474566.0}, {\"year\": 2012, \"source\": \"1 FONDO GENERAL\", \"moment\": \"accrued\", \"value\": 1323244.6}, {\"year\": 2012, \"source\": \"1 FONDO GENERAL\", \"moment\": \"accrued\", \"value\": 34315.44}, {\"year\": 2012, \"source\": \"3 PRESTAMOS EXTERNOS\", \"moment\": \"accrued\", \"value\": 500973.0}, {\"year\": 2012, \"source\": \"3 PRESTAMOS EXTERNOS\", \"moment\": \"accrued\", \"value\": 1164825.0}, {\"year\": 2012, \"source\": \"1 FONDO GENERAL\", \"moment\": \"accrued\", \"value\": 698480.41}, {\"year\": 2012, \"source\": \"1 FONDO GENERAL\", \"moment\": \"accrued\", \"value\": 36959.69}, {\"year\": 2013, \"source\": \"1 FONDO GENERAL\", \"moment\": \"accrued\", \"value\": 2961162.07}, {\"year\": 2013, \"source\": \"1 FONDO GENERAL\", \"moment\": \"accrued\", \"value\": 9756652.48}, {\"year\": 2013, \"source\": \"1 FONDO GENERAL\", \"moment\": \"accrued\", \"value\": 5022566.13}, {\"year\": 2013, \"source\": \"1 FONDO GENERAL\", \"moment\": \"accrued\", \"value\": 21207644.7}, {\"year\": 2013, \"source\": \"1 FONDO GENERAL\", \"moment\": \"accrued\", \"value\": 13814682.22}, {\"year\": 2013, \"source\": \"1 FONDO GENERAL\", \"moment\": \"accrued\", \"value\": 6680716.06}, {\"year\": 2013, \"source\": \"1 FONDO GENERAL\", \"moment\": \"accrued\", \"value\": 3070603.91}, {\"year\": 2013, \"source\": \"1 FONDO GENERAL\", \"moment\": \"accrued\", \"value\": 10709149.77}, {\"year\": 2013, \"source\": \"1 FONDO GENERAL\", \"moment\": \"accrued\", \"value\": 239047.9}, {\"year\": 2013, \"source\": \"1 FONDO GENERAL\", \"moment\": \"accrued\", \"value\": 4256755.78}, {\"year\": 2013, \"source\": \"1 FONDO GENERAL\", \"moment\": \"accrued\", \"value\": 3230820.0}, {\"year\": 2013, \"source\": \"1 FONDO GENERAL\", \"moment\": \"accrued\", \"value\": 102095.31}, {\"year\": 2013, \"source\": \"1 FONDO GENERAL\", \"moment\": \"accrued\", \"value\": 619305.05}, {\"year\": 2014, \"source\": \"5 DONACIONES\", \"moment\": \"accrued\", \"value\": 824460.65}, {\"year\": 2014, \"source\": \"1 FONDO GENERAL\", \"moment\": \"accrued\", \"value\": 8725069.86}, {\"year\": 2014, \"source\": \"1 FONDO GENERAL\", \"moment\": \"accrued\", \"value\": 506617.87}, {\"year\": 2014, \"source\": \"1 FONDO GENERAL\", \"moment\": \"accrued\", \"value\": 1104660.26}, {\"year\": 2014, \"source\": \"1 FONDO GENERAL\", \"moment\": \"accrued\", \"value\": 1859124.62}, {\"year\": 2014, \"source\": \"1 FONDO GENERAL\", \"moment\": \"accrued\", \"value\": 21578115.69}, {\"year\": 2014, \"source\": \"1 FONDO GENERAL\", \"moment\": \"accrued\", \"value\": 8702819.34}, {\"year\": 2014, \"source\": \"1 FONDO GENERAL\", \"moment\": \"accrued\", \"value\": 433770.56}, {\"year\": 2014, \"source\": \"1 FONDO GENERAL\", \"moment\": \"accrued\", \"value\": 9288.63}, {\"year\": 2015, \"source\": \"1 FONDO GENERAL\", \"moment\": \"accrued\", \"value\": 9741158.8}, {\"year\": 2015, \"source\": \"1 FONDO GENERAL\", \"moment\": \"accrued\", \"value\": 4707778.79}, {\"year\": 2015, \"source\": \"1 FONDO GENERAL\", \"moment\": \"accrued\", \"value\": 457125.6}, {\"year\": 2015, \"source\": \"5 DONACIONES\", \"moment\": \"accrued\", \"value\": 1779349.09}, {\"year\": 2015, \"source\": \"1 FONDO GENERAL\", \"moment\": \"accrued\", \"value\": 20103156.03}, {\"year\": 2015, \"source\": \"1 FONDO GENERAL\", \"moment\": \"accrued\", \"value\": 1806218.02}, {\"year\": 2015, \"source\": \"1 FONDO GENERAL\", \"moment\": \"accrued\", \"value\": 659537.0}, {\"year\": 2015, \"source\": \"1 FONDO GENERAL\", \"moment\": \"accrued\", \"value\": 7973342.17}, {\"year\": 2015, \"source\": \"1 FONDO GENERAL\", \"moment\": \"accrued\", \"value\": 20859.48}, {\"year\": 2015, \"source\": \"1 FONDO GENERAL\", \"moment\": \"accrued\", \"value\": 24944.59}, {\"year\": 2015, \"source\": \"1 FONDO GENERAL\", \"moment\": \"accrued\", \"value\": 42226.79}, {\"year\": 2015, \"source\": \"1 FONDO GENERAL\", \"moment\": \"accrued\", \"value\": 1965725.97}, {\"year\": 2015, \"source\": \"1 FONDO GENERAL\", \"moment\": \"accrued\", \"value\": 27075.0}, {\"year\": 2015, \"source\": \"1 FONDO GENERAL\", \"moment\": \"accrued\", \"value\": 409297.28}, {\"year\": 2015, \"source\": \"1 FONDO GENERAL\", \"moment\": \"accrued\", \"value\": 552199.76}, {\"year\": 2015, \"source\": \"3 PRESTAMOS EXTERNOS\", \"moment\": \"accrued\", \"value\": 4000000.0}, {\"year\": 2015, \"source\": \"1 FONDO GENERAL\", \"moment\": \"accrued\", \"value\": 25676.52}, {\"year\": 2016, \"source\": \"1 FONDO GENERAL\", \"moment\": \"accrued\", \"value\": 23109070.62}, {\"year\": 2016, \"source\": \"1 FONDO GENERAL\", \"moment\": \"accrued\", \"value\": 4100000.0}, {\"year\": 2016, \"source\": \"1 FONDO GENERAL\", \"moment\": \"accrued\", \"value\": 2988120.0}, {\"year\": 2016, \"source\": \"1 FONDO GENERAL\", \"moment\": \"accrued\", \"value\": 29015.0}, {\"year\": 2016, \"source\": \"5 DONACIONES\", \"moment\": \"accrued\", \"value\": 800000.0}, {\"year\": 2016, \"source\": \"1 FONDO GENERAL\", \"moment\": \"accrued\", \"value\": 1478510.0}, {\"year\": 2016, \"source\": \"1 FONDO GENERAL\", \"moment\": \"accrued\", \"value\": 1290985.0}, {\"year\": 2017, \"source\": \"1 FONDO GENERAL\", \"moment\": \"accrued\", \"value\": 2642310.0}, {\"year\": 2017, \"source\": \"1 FONDO GENERAL\", \"moment\": \"accrued\", \"value\": 1712000.0}, {\"year\": 2017, \"source\": \"1 FONDO GENERAL\", \"moment\": \"accrued\", \"value\": 0.0}, {\"year\": 2017, \"source\": \"5 DONACIONES\", \"moment\": \"accrued\", \"value\": 450000.0}, {\"year\": 2017, \"source\": \"1 FONDO GENERAL\", \"moment\": \"accrued\", \"value\": 25001910.0}, {\"year\": 2017, \"source\": \"1 FONDO GENERAL\", \"moment\": \"accrued\", \"value\": 1675410.0}, {\"year\": 2017, \"source\": \"1 FONDO GENERAL\", \"moment\": \"accrued\", \"value\": 500000.0}]}};\n",
       "const opt = {};\n",
       "const type = \"vega-lite\";\n",
       "const id = \"65a0c94b-0a3a-49b4-993d-175f79cfdc90\";\n",
       "\n",
       "const output_area = this;\n",
       "\n",
       "require([\"nbextensions/jupyter-vega/index\"], function(vega) {\n",
       "  const target = document.createElement(\"div\");\n",
       "  target.id = id;\n",
       "  target.className = \"vega-embed\";\n",
       "\n",
       "  const style = document.createElement(\"style\");\n",
       "  style.textContent = [\n",
       "    \".vega-embed .error p {\",\n",
       "    \"  color: firebrick;\",\n",
       "    \"  font-size: 14px;\",\n",
       "    \"}\",\n",
       "  ].join(\"\\\\n\");\n",
       "\n",
       "  // element is a jQuery wrapped DOM element inside the output area\n",
       "  // see http://ipython.readthedocs.io/en/stable/api/generated/\\\n",
       "  // IPython.display.html#IPython.display.Javascript.__init__\n",
       "  element[0].appendChild(target);\n",
       "  element[0].appendChild(style);\n",
       "\n",
       "  vega.render(\"#\" + id, spec, type, opt, output_area);\n",
       "}, function (err) {\n",
       "  if (err.requireType !== \"scripterror\") {\n",
       "    throw(err);\n",
       "  }\n",
       "});\n"
      ],
      "text/plain": [
       "<vega.vegalite.VegaLite at 0x7f4ce42980a0>"
      ]
     },
     "execution_count": 97,
     "metadata": {
      "jupyter-vega": "#65a0c94b-0a3a-49b4-993d-175f79cfdc90"
     },
     "output_type": "execute_result"
    },
    {
     "data": {
      "image/png": "[encoded data removed]"
     },
     "metadata": {
      "jupyter-vega": "#65a0c94b-0a3a-49b4-993d-175f79cfdc90"
     },
     "output_type": "display_data"
    }
   ],
   "source": [
    "VegaLite({\n",
    "    \"$schema\": \"https://vega.github.io/schema/vega-lite/v5.json\",\n",
    "    \"mark\": \"bar\",\n",
    "    \"width\": 500,\n",
    "    \"encoding\": {\n",
    "        \"y\": {\"aggregate\": \"sum\", \"type\": \"quantitative\", \"field\": \"value\"},\n",
    "        \"x\": {\"type\": \"nominal\", \"field\": \"year\"},\n",
    "        \"color\": {\"field\": \"source\"}\n",
    "    },\n",
    "    \"transform\": [\n",
    "        {\"filter\": \"datum.moment == 'accrued'\"}\n",
    "    ],\n",
    "    \"config\": {\n",
    "        \"numberFormat\": \"~s\",\n",
    "    }\n",
    "}, data)"
   ]
  },
  {
   "cell_type": "code",
   "execution_count": null,
   "id": "d0f2530b",
   "metadata": {},
   "outputs": [],
   "source": []
  }
 ],
 "metadata": {
  "kernelspec": {
   "display_name": "Python 3",
   "language": "python",
   "name": "python3"
  },
  "language_info": {
   "codemirror_mode": {
    "name": "ipython",
    "version": 3
   },
   "file_extension": ".py",
   "mimetype": "text/x-python",
   "name": "python",
   "nbconvert_exporter": "python",
   "pygments_lexer": "ipython3",
   "version": "3.10.1"
  }
 },
 "nbformat": 4,
 "nbformat_minor": 5
}
